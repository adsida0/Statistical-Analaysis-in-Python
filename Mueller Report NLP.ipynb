{
 "cells": [
  {
   "cell_type": "code",
   "execution_count": 1,
   "metadata": {},
   "outputs": [
    {
     "data": {
      "text/plain": [
       "['TEST', 'test']"
      ]
     },
     "execution_count": 1,
     "metadata": {},
     "output_type": "execute_result"
    }
   ],
   "source": [
    "import re\n",
    "text = \"This is my own text.  Not the TEST sample test text.\"\n",
    "pattern = re.compile(r'test', flags = re.IGNORECASE)\n",
    "result = pattern.findall(text)\n",
    "result"
   ]
  },
  {
   "cell_type": "code",
   "execution_count": 2,
   "metadata": {},
   "outputs": [],
   "source": [
    "# ? makes the last character optional\n",
    "pattern = re.compile(r'[Ee]lections?') \n",
    "                     # will find Election, Elections, election, elections"
   ]
  },
  {
   "cell_type": "code",
   "execution_count": 3,
   "metadata": {},
   "outputs": [],
   "source": [
    "pattern = re.compile(r'GRU\\s.*?target(ed)?\\s(\\w*\\s*\\w*)')  \n",
    "                    # GRU and then any numnber of spaces, then the word target (or targeted)\n",
    "                    # end string that is found with a word; non-greedy (smallest space between\n",
    "                    # 'GRU' and 'target(ed)' instead of greedy (biggest space between them))"
   ]
  },
  {
   "cell_type": "code",
   "execution_count": 4,
   "metadata": {},
   "outputs": [],
   "source": [
    "pattern_hashtag = re.compile(r'#.*?\\s')  # finding a HASHTAG\n",
    "pattern_handle = re.compile(r'\\s@.*?\\s')   # finding a HANDLE\n",
    "pattern_url = re.compile(r'www\\..+\\.*')  # finding a URL\n",
    "patern_email = re.compile(r'\\w+?@\\w+\\.\\w+(\\.\\w+)*') # finding an EMAIL"
   ]
  },
  {
   "cell_type": "code",
   "execution_count": 7,
   "metadata": {},
   "outputs": [
    {
     "name": "stdout",
     "output_type": "stream",
     "text": [
      ".S. Department of Justice\n",
      "Atterney-Work Preduet // MayCentain Material Preteeted-Under Fed R-Crim P-6fe}\n",
      "\n",
      "Report On The Investigation Into\n",
      "Russian Interference In The\n",
      "2016 Presidential Election\n",
      "\n",
      "Volume I of II\n",
      "\n",
      "Special Counsel Robert S. Mueller, III\n",
      "\n",
      "Submitted Pursuant to 28 CFR. § 600.8(c)\n",
      "\n",
      "Washington, D.C.\n",
      "\n",
      "March 2019U.S. Department of Justice\n",
      "Atterney-Work Preduet // MayCentain Material Preteeted-Under Fed R-Crim P-6fe}U.S. Department of Justice\n",
      "Atterney-Work Preduet // MayCentain Material P\n"
     ]
    }
   ],
   "source": [
    "import os\n",
    "\n",
    "os.chdir(\"./OneDrive/QMSS\")\n",
    "cwd = os.getcwd()\n",
    "print(cwd)\n",
    "\n",
    "with open ('mueller_report_full.txt') as f:\n",
    "    text = f.read()\n",
    "print(text[1:500])"
   ]
  },
  {
   "cell_type": "code",
   "execution_count": 6,
   "metadata": {},
   "outputs": [
    {
     "name": "stdout",
     "output_type": "stream",
     "text": [
      "/Users/adsida/OneDrive/QMSS\n"
     ]
    }
   ],
   "source": []
  },
  {
   "cell_type": "code",
   "execution_count": 8,
   "metadata": {},
   "outputs": [
    {
     "name": "stdout",
     "output_type": "stream",
     "text": [
      "2545\n"
     ]
    }
   ],
   "source": [
    "pattern_date = re.compile(r'(\\d+/\\d+/\\d+)')\n",
    "result = pattern_date.findall(text) \n",
    "print(len(result))"
   ]
  },
  {
   "cell_type": "code",
   "execution_count": 10,
   "metadata": {},
   "outputs": [
    {
     "name": "stdout",
     "output_type": "stream",
     "text": [
      "['0/28/97', '07/11/17', '07/11/17', '07/11/17', '07/11/17', '1/10/17', '1/11/16', '1/11/16', '1/11/17', '1/11/17', '1/11/17', '1/11/17', '1/11/18', '1/11/18', '1/11/18', '1/12/17', '1/12/17', '1/12/18', '1/12/18', '1/14/16', '1/14/16', '1/14/16', '1/15/16', '1/15/17', '1/15/17', '1/15/17', '1/15/17', '1/16/16', '1/16/16', '1/16/17', '1/16/17', '1/17/18', '1/17/18', '1/17/18', '1/17/18', '1/17/18', '1/17/18', '1/17/18', '1/17/18', '1/17/18', '1/17/18', '1/17/18', '1/17/18', '1/17/18', '1/17/18', '1/17/18', '1/17/18', '1/17/18', '1/17/18', '1/17/18']\n"
     ]
    }
   ],
   "source": [
    "result.sort()\n",
    "print(result[0:50])"
   ]
  },
  {
   "cell_type": "code",
   "execution_count": 15,
   "metadata": {},
   "outputs": [
    {
     "name": "stdout",
     "output_type": "stream",
     "text": [
      "866\n"
     ]
    }
   ],
   "source": [
    "russia_text = re.compile(r'[Rr]ussians?')\n",
    "result2 = russia_text.findall(text)\n",
    "print(len(result2))"
   ]
  },
  {
   "cell_type": "code",
   "execution_count": 17,
   "metadata": {},
   "outputs": [
    {
     "name": "stdout",
     "output_type": "stream",
     "text": [
      "['Russian', 'Russian', 'Russian', 'Russian', 'Russian', 'Russian', 'Russian', 'Russian', 'Russian', 'Russian', 'Russian', 'Russian', 'Russian', 'Russian', 'Russian', 'Russian', 'Russian', 'Russian', 'Russian', 'Russian', 'Russian', 'Russian', 'Russian', 'Russian', 'Russian', 'Russian', 'Russian', 'Russian', 'Russian', 'Russian', 'Russian', 'Russian', 'Russian', 'Russian', 'Russian', 'Russian', 'Russian', 'Russian', 'Russian', 'Russian', 'Russian', 'Russian', 'Russian', 'Russian', 'Russian', 'Russian', 'Russian', 'Russian', 'Russian', 'Russian', 'Russian', 'Russian', 'Russian', 'Russian', 'Russian', 'Russian', 'Russian', 'Russian', 'Russian', 'Russian', 'Russian', 'Russian', 'Russian', 'Russians', 'Russian', 'Russian', 'Russian', 'Russian', 'Russian', 'Russian', 'Russian', 'Russian', 'Russian', 'Russian', 'Russian', 'Russian', 'Russian', 'Russians', 'Russian', 'Russian', 'Russian', 'Russian', 'Russian', 'Russian', 'Russian', 'Russian', 'Russian', 'Russian', 'Russian', 'Russian', 'Russian', 'Russian', 'Russian', 'Russian', 'Russian', 'Russian', 'Russian', 'Russian', 'Russian', 'Russian', 'Russian', 'Russians', 'Russian', 'Russian', 'Russian', 'Russians', 'Russian', 'Russian', 'Russians', 'Russian', 'Russian', 'Russian', 'Russian', 'Russian', 'Russian', 'Russian', 'Russian', 'Russian', 'Russian', 'Russian', 'Russian', 'Russian', 'Russian', 'Russian', 'Russian', 'Russian', 'Russian', 'Russian', 'Russian', 'Russian', 'Russian', 'Russian', 'Russian', 'Russian', 'Russian', 'Russian', 'Russian', 'Russian', 'Russian', 'Russian', 'Russian', 'Russian', 'Russian', 'Russian', 'Russian', 'Russian', 'Russian', 'Russian', 'Russian', 'Russian', 'Russian', 'Russian', 'Russian', 'Russian', 'Russian', 'Russian', 'Russian', 'Russian', 'Russian', 'Russian', 'Russian', 'Russian', 'Russian', 'Russian', 'Russian', 'Russian', 'Russian', 'Russian', 'Russian', 'Russian', 'Russian', 'Russian', 'Russian', 'Russian', 'Russian', 'Russian', 'Russian', 'Russian', 'russian', 'Russian', 'Russian', 'Russians', 'Russian', 'Russian', 'Russian', 'Russian', 'Russian', 'Russian', 'Russian', 'Russian', 'Russian', 'Russian', 'Russian', 'Russian', 'Russian', 'Russian', 'Russians', 'Russian', 'Russian', 'Russian', 'Russian', 'Russian', 'Russian', 'Russian', 'Russian', 'Russian', 'Russian', 'Russian', 'Russian', 'Russian', 'Russian', 'Russian', 'Russian', 'Russian', 'Russian', 'Russian', 'Russian', 'Russian', 'Russian', 'Russian', 'Russian', 'Russian', 'Russian', 'Russian', 'Russian', 'Russian', 'Russian', 'Russians', 'Russian', 'Russian', 'Russian', 'Russian', 'Russian', 'Russian', 'Russian', 'Russian', 'Russian', 'Russian', 'Russian', 'Russian', 'Russian', 'Russian', 'Russian', 'Russian', 'Russian', 'Russian', 'Russian', 'Russian', 'Russian', 'Russians', 'Russian', 'Russian', 'Russians', 'Russian', 'Russian', 'Russians', 'Russian', 'Russian', 'Russian', 'Russian', 'Russian', 'Russian', 'Russian', 'Russian', 'Russian', 'Russian', 'Russian', 'Russian', 'Russian', 'Russian', 'Russian', 'Russian', 'Russian', 'Russian', 'Russian', 'Russian', 'Russian', 'Russian', 'Russian', 'Russian', 'Russian', 'Russian', 'Russian', 'Russian', 'Russian', 'Russian', 'Russian', 'Russian', 'Russian', 'Russian', 'Russian', 'Russian', 'Russian', 'Russian', 'Russian', 'Russian', 'Russian', 'Russian', 'Russian', 'Russian', 'Russian', 'Russians', 'Russian', 'Russian', 'Russian', 'Russian', 'Russian', 'Russian', 'Russian', 'Russian', 'Russian', 'russian', 'russian', 'Russian', 'Russian', 'Russian', 'Russian', 'Russian', 'Russian', 'Russian', 'Russian', 'Russian', 'Russian', 'Russian', 'Russian', 'Russian', 'Russian', 'Russian', 'Russian', 'Russian', 'Russian', 'Russian', 'Russian', 'Russian', 'Russian', 'Russian', 'Russian', 'Russian', 'Russian', 'Russian', 'Russian', 'Russian', 'Russian', 'Russian', 'Russian', 'Russian', 'Russians', 'Russian', 'Russian', 'Russian', 'Russian', 'Russian', 'Russian', 'Russian', 'Russian', 'Russian', 'Russian', 'Russian', 'Russian', 'Russian', 'Russian', 'Russian', 'Russian', 'Russian', 'Russian', 'Russian', 'Russian', 'Russian', 'Russian', 'Russian', 'Russian', 'Russian', 'Russian', 'Russian', 'Russian', 'Russian', 'Russian', 'Russian', 'Russians', 'Russian', 'Russian', 'Russian', 'Russians', 'Russian', 'Russian', 'Russian', 'Russian', 'Russian', 'Russian', 'Russian', 'Russian', 'Russian', 'Russian', 'Russian', 'Russian', 'Russian', 'Russian', 'Russian', 'Russian', 'Russian', 'Russian', 'Russian', 'Russian', 'Russian', 'Russian', 'Russian', 'Russian', 'Russian', 'Russian', 'Russian', 'Russian', 'Russian', 'Russian', 'Russian', 'Russian', 'Russian', 'russian', 'Russians', 'Russians', 'Russian', 'Russians', 'Russians', 'Russian', 'Russian', 'Russian', 'Russians', 'Russian', 'Russian', 'Russian', 'Russian', 'Russian', 'Russian', 'Russian', 'Russian', 'Russian', 'Russian', 'Russian', 'Russian', 'Russian', 'Russian', 'Russian', 'Russian', 'Russian', 'Russians', 'Russian', 'Russian', 'Russian', 'Russian', 'Russian', 'Russian', 'Russian', 'Russian', 'Russian', 'Russians', 'Russians', 'Russian', 'Russian', 'Russian', 'Russian', 'Russian', 'Russian', 'Russian', 'Russian', 'Russian', 'Russian', 'Russian', 'Russian', 'Russian', 'Russian', 'Russian', 'Russian', 'Russian', 'Russian', 'Russians', 'Russian', 'Russian', 'Russian', 'Russian', 'Russian', 'Russians', 'Russian', 'Russians', 'Russian', 'Russian', 'Russian', 'Russian', 'Russian', 'Russians', 'Russian', 'Russian', 'Russian', 'Russian', 'Russian', 'Russian', 'Russian', 'Russian', 'Russian', 'Russian', 'Russian', 'Russian']\n"
     ]
    }
   ],
   "source": [
    "print(result2[0:500])"
   ]
  },
  {
   "cell_type": "code",
   "execution_count": 18,
   "metadata": {},
   "outputs": [
    {
     "name": "stdout",
     "output_type": "stream",
     "text": [
      "41\n"
     ]
    }
   ],
   "source": [
    "troll_text = re.compile(r'[Tt]rolls?')\n",
    "result3 = troll_text.findall(text)\n",
    "print(len(result3))"
   ]
  },
  {
   "cell_type": "code",
   "execution_count": 19,
   "metadata": {},
   "outputs": [
    {
     "name": "stdout",
     "output_type": "stream",
     "text": [
      "['troll', 'troll', 'troll', 'troll', 'troll', 'troll', 'troll', 'troll', 'troll', 'troll', 'troll', 'troll', 'troll', 'troll', 'troll', 'troll', 'troll', 'troll', 'troll', 'troll', 'troll', 'troll', 'troll', 'troll', 'troll', 'troll', 'troll', 'troll', 'troll', 'troll', 'troll', 'troll', 'troll', 'troll', 'troll', 'troll', 'troll', 'troll', 'troll', 'troll', 'troll']\n"
     ]
    }
   ],
   "source": [
    "print(result3)"
   ]
  },
  {
   "cell_type": "code",
   "execution_count": 22,
   "metadata": {},
   "outputs": [
    {
     "name": "stdout",
     "output_type": "stream",
     "text": [
      "[]\n"
     ]
    }
   ],
   "source": [
    "russia_troll = re.compile(r'[Rr]ussian? [Tt]rolls?')\n",
    "result4 = russia_troll.findall(text)\n",
    "print(result4)"
   ]
  },
  {
   "cell_type": "code",
   "execution_count": null,
   "metadata": {},
   "outputs": [],
   "source": []
  }
 ],
 "metadata": {
  "kernelspec": {
   "display_name": "Python 3",
   "language": "python",
   "name": "python3"
  },
  "language_info": {
   "codemirror_mode": {
    "name": "ipython",
    "version": 3
   },
   "file_extension": ".py",
   "mimetype": "text/x-python",
   "name": "python",
   "nbconvert_exporter": "python",
   "pygments_lexer": "ipython3",
   "version": "3.7.4"
  }
 },
 "nbformat": 4,
 "nbformat_minor": 2
}
